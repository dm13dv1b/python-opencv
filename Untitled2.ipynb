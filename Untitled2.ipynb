{
 "metadata": {
  "name": "",
  "signature": "sha256:07bdfe733ebbe6b895cea86cfcd99a1d179df4005efd92c38ac2cb5de123423d"
 },
 "nbformat": 3,
 "nbformat_minor": 0,
 "worksheets": [
  {
   "cells": [
    {
     "cell_type": "code",
     "collapsed": false,
     "input": [
      "import scipy as sc"
     ],
     "language": "python",
     "metadata": {},
     "outputs": [],
     "prompt_number": 1
    },
    {
     "cell_type": "code",
     "collapsed": false,
     "input": [
      "import numpy"
     ],
     "language": "python",
     "metadata": {},
     "outputs": [],
     "prompt_number": 2
    },
    {
     "cell_type": "code",
     "collapsed": false,
     "input": [
      "import matplotlib"
     ],
     "language": "python",
     "metadata": {},
     "outputs": [],
     "prompt_number": 3
    },
    {
     "cell_type": "code",
     "collapsed": false,
     "input": [
      "import numpy"
     ],
     "language": "python",
     "metadata": {},
     "outputs": [],
     "prompt_number": 4
    },
    {
     "cell_type": "code",
     "collapsed": false,
     "input": [
      "import cv2"
     ],
     "language": "python",
     "metadata": {},
     "outputs": [],
     "prompt_number": 5
    },
    {
     "cell_type": "code",
     "collapsed": false,
     "input": [
      "import matplotlib.pyplot as plt # For ploting\n",
      "import numpy as np # to work with numerical data efficiently\n",
      "\n",
      "fs = 100 # sample rate \n",
      "f = 2 # the frequency of the signal\n",
      "\n",
      "x = np.arange(fs) # the points on the x axis for plotting\n",
      "# compute the value (amplitude) of the sin wave at the for each sample\n",
      "y = [ np.sin(2*np.pi*f * (i/fs)) for i in np.arange(fs)]\n",
      "\n",
      "% matplotlib inline\n",
      "# showing the exact location of the smaples\n",
      "plt.stem(x,y, 'r', )\n",
      "plt.plot(x,y)"
     ],
     "language": "python",
     "metadata": {},
     "outputs": [
      {
       "metadata": {},
       "output_type": "pyout",
       "prompt_number": 6,
       "text": [
        "[<matplotlib.lines.Line2D at 0x7fea958d7810>]"
       ]
      },
      {
       "metadata": {},
       "output_type": "display_data",
       "png": "[encoded data removed]",
       "text": [
        "<matplotlib.figure.Figure at 0x7fea953d5f50>"
       ]
      }
     ],
     "prompt_number": 6
    },
    {
     "cell_type": "code",
     "collapsed": false,
     "input": [
      "import matplotlib.pyplot as plt\n",
      "import numpy as np\n",
      "\n",
      "\n",
      "Fs = 8000\n",
      "f = 5\n",
      "sample = 16\n",
      "x = np.arange(sample)\n",
      "y = np.sin(2 * np.pi * f * x / Fs)\n",
      "plt.plot(x, y)\n",
      "plt.xlabel('voltage(V)')\n",
      "plt.ylabel('sample(n)')\n",
      "plt.show()"
     ],
     "language": "python",
     "metadata": {},
     "outputs": [
      {
       "metadata": {},
       "output_type": "display_data",
       "png": "[encoded data removed]",
       "text": [
        "<matplotlib.figure.Figure at 0x7fead08c5650>"
       ]
      }
     ],
     "prompt_number": 7
    },
    {
     "cell_type": "code",
     "collapsed": false,
     "input": [],
     "language": "python",
     "metadata": {},
     "outputs": []
    }
   ],
   "metadata": {}
  }
 ]
}