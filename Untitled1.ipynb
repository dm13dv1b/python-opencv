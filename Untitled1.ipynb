{
 "metadata": {
  "name": "",
  "signature": "sha256:05ac27c7b7f563e8af3ef7027b0b50b8dfb0b5f322ea78412066394b5c8a8610"
 },
 "nbformat": 3,
 "nbformat_minor": 0,
 "worksheets": []
}